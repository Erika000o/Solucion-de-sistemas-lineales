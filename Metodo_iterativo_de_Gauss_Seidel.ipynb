{
  "nbformat": 4,
  "nbformat_minor": 0,
  "metadata": {
    "colab": {
      "provenance": [],
      "authorship_tag": "ABX9TyOBfMb+NBugZD4rFcwjRGJH",
      "include_colab_link": true
    },
    "kernelspec": {
      "name": "python3",
      "display_name": "Python 3"
    },
    "language_info": {
      "name": "python"
    }
  },
  "cells": [
    {
      "cell_type": "markdown",
      "metadata": {
        "id": "view-in-github",
        "colab_type": "text"
      },
      "source": [
        "<a href=\"https://colab.research.google.com/github/Erika000o/Solucion-de-sistemas-lineales/blob/main/Metodo_iterativo_de_Gauss_Seidel.ipynb\" target=\"_parent\"><img src=\"https://colab.research.google.com/assets/colab-badge.svg\" alt=\"Open In Colab\"/></a>"
      ]
    },
    {
      "cell_type": "code",
      "execution_count": 2,
      "metadata": {
        "colab": {
          "base_uri": "https://localhost:8080/"
        },
        "id": "qHEkW3eVp6te",
        "outputId": "1e82342f-bf29-42f8-fee7-a66797c63b0d"
      },
      "outputs": [
        {
          "output_type": "stream",
          "name": "stdout",
          "text": [
            "Solución del sistema:\n",
            "[  2.21907032 -25.07187128   6.57199046]\n",
            "Número de iteraciones: 8\n"
          ]
        }
      ],
      "source": [
        "import numpy as np\n",
        "\n",
        "def gauss_seidel(A, b, x0, tol=1e-10, max_iter=1000):\n",
        "    n = len(b)\n",
        "    x = x0\n",
        "    for k in range(max_iter):\n",
        "        x_new = np.copy(x)\n",
        "        for i in range(n):\n",
        "            s1 = sum(A[i][j] * x_new[j] for j in range(i))\n",
        "            s2 = sum(A[i][j] * x[j] for j in range(i+1, n))\n",
        "            x_new[i] = (b[i] - s1 - s2) / A[i][i]\n",
        "        if np.linalg.norm(x_new - x, ord=np.inf) < tol:\n",
        "            return x_new, k\n",
        "        x = x_new\n",
        "    return x, max_iter\n",
        "\n",
        "# Matriz de coeficientes\n",
        "A = np.array([[3, -0.1, -0.2],\n",
        "              [0.1, 0.7, -0.3],\n",
        "              [0.3, -0.2, 10]], dtype=float)\n",
        "\n",
        "\n",
        "# Vector de términos independientes\n",
        "b = np.array([7.85, -19.3, 71.4], dtype=float)\n",
        "\n",
        "# Valor inicial de las incógnitas\n",
        "x0 = np.zeros_like(b)\n",
        "\n",
        "# Resolver el sistema usando el método de Gauss-Seidel\n",
        "sol, iteraciones = gauss_seidel(A, b, x0)\n",
        "\n",
        "# Mostrar la solución y el número de iteraciones\n",
        "print(\"Solución del sistema:\")\n",
        "print(sol)\n",
        "print(f\"Número de iteraciones: {iteraciones}\")\n"
      ]
    }
  ]
}